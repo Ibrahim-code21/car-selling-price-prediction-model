{
 "cells": [
  {
   "cell_type": "code",
   "execution_count": 13,
   "id": "49609446",
   "metadata": {},
   "outputs": [
    {
     "name": "stdout",
     "output_type": "stream",
     "text": [
      "Model Test Results:\n",
      "R2 test on LR: 0.8488707839193151\n",
      "R2 test on RF: 0.9582296580950264\n",
      "MAE: 0.6414311475409826\n"
     ]
    }
   ],
   "source": [
    "import pandas as pd\n",
    "from sklearn.model_selection import train_test_split\n",
    "from sklearn.linear_model import LinearRegression\n",
    "from sklearn.ensemble import RandomForestRegressor\n",
    "from sklearn.metrics import r2_score, mean_absolute_error, mean_squared_error\n",
    "\n",
    "df = pd.read_csv(\"car_data_encoded.csv\")\n",
    "\n",
    "target = \"Selling_Price\"\n",
    "Y = df[target].values\n",
    "X = df.drop(columns=[target])\n",
    "\n",
    "X_train, X_test, Y_train, Y_test = train_test_split(X, Y, test_size=0.2, random_state=42)\n",
    "\n",
    "lr = LinearRegression()\n",
    "lr.fit(X_train, Y_train)\n",
    "\n",
    "rf = RandomForestRegressor(n_estimators=200, random_state=42)\n",
    "rf.fit(X_train, Y_train)\n",
    "\n",
    "lr_test_pred = lr.predict(X_test)\n",
    "rf_test_pred = rf.predict(X_test)\n",
    "\n",
    "print(\"Model Test Results:\")\n",
    "print(\"R2 test on LR:\", r2_score(Y_test, lr_test_pred))\n",
    "print(\"R2 test on RF:\", r2_score(Y_test, rf_test_pred))\n",
    "print(\"MAE:\", mean_absolute_error(Y_test, rf_test_pred))\n",
    "\n",
    "\n",
    "\n",
    "\n",
    "\n",
    "\n"
   ]
  },
  {
   "cell_type": "markdown",
   "id": "062a0850",
   "metadata": {},
   "source": [
    "## Saving Model"
   ]
  },
  {
   "cell_type": "code",
   "execution_count": 15,
   "id": "763e2741",
   "metadata": {},
   "outputs": [],
   "source": [
    "import pickle \n",
    "\n",
    "with open(\"linear_model.pkl\", \"wb\") as f:\n",
    "    pickle.dump(lr, f)\n",
    "\n",
    "with open(\"rf_model.pkl\", \"wb\") as f:\n",
    "    pickle.dump(rf, f)\n",
    "\n"
   ]
  }
 ],
 "metadata": {
  "kernelspec": {
   "display_name": "base",
   "language": "python",
   "name": "python3"
  },
  "language_info": {
   "codemirror_mode": {
    "name": "ipython",
    "version": 3
   },
   "file_extension": ".py",
   "mimetype": "text/x-python",
   "name": "python",
   "nbconvert_exporter": "python",
   "pygments_lexer": "ipython3",
   "version": "3.12.4"
  }
 },
 "nbformat": 4,
 "nbformat_minor": 5
}
