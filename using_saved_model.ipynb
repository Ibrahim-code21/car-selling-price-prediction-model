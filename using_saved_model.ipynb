{
 "cells": [
  {
   "cell_type": "code",
   "execution_count": null,
   "id": "94356b06",
   "metadata": {},
   "outputs": [
    {
     "name": "stdout",
     "output_type": "stream",
     "text": [
      "✅ Predictions saved to 'predicted_prices.csv'\n",
      "   Present_Price  Driven_kms  Owner  Car_Age  Fuel_Type_Diesel  \\\n",
      "0           12.5       45000      0        5                 1   \n",
      "1            8.0       30000      0        3                 0   \n",
      "2           15.0       60000      1        7                 1   \n",
      "\n",
      "   Fuel_Type_Petrol  Selling_type_Individual  Transmission_Manual  \\\n",
      "0                 0                        1                    1   \n",
      "1                 1                        0                    0   \n",
      "2                 0                        1                    1   \n",
      "\n",
      "   Predicted_Price(LR)  Predicted_Price(RF)  \n",
      "0             9.510714             10.79315  \n",
      "1             9.414432              6.02400  \n",
      "2             8.879804             12.47095  \n"
     ]
    }
   ],
   "source": [
    "import pickle\n",
    "import pandas as pd\n",
    "\n",
    "with open(\"linear_model.pkl\", \"rb\") as f:\n",
    "    lr = pickle.load(f)\n",
    "\n",
    "with open(\"rf_model.pkl\", \"rb\") as f:\n",
    "    rf = pickle.load(f)\n",
    "\n",
    "test = pd.read_csv(\"car_data_new.csv\")\n",
    "\n",
    "lr_predictions = lr.predict(test)\n",
    "rf_predictions = rf.predict(test)\n",
    "\n",
    "results = test.copy()\n",
    "results[\"Predicted_Price(LR)\"] = lr_predictions\n",
    "results[\"Predicted_Price(RF)\"] = rf_predictions\n",
    "results.to_csv(\"predicted_prices.csv\", index=False)\n",
    "\n",
    "print(results.head())\n"
   ]
  }
 ],
 "metadata": {
  "kernelspec": {
   "display_name": "base",
   "language": "python",
   "name": "python3"
  },
  "language_info": {
   "codemirror_mode": {
    "name": "ipython",
    "version": 3
   },
   "file_extension": ".py",
   "mimetype": "text/x-python",
   "name": "python",
   "nbconvert_exporter": "python",
   "pygments_lexer": "ipython3",
   "version": "3.12.4"
  }
 },
 "nbformat": 4,
 "nbformat_minor": 5
}
