{
 "cells": [
  {
   "cell_type": "code",
   "execution_count": 1,
   "id": "5eb80293",
   "metadata": {},
   "outputs": [
    {
     "name": "stdout",
     "output_type": "stream",
     "text": [
      "  Car_Name  Year  Selling_Price  Present_Price  Driven_kms Fuel_Type  \\\n",
      "0     ritz  2014           3.35           5.59       27000    Petrol   \n",
      "1      sx4  2013           4.75           9.54       43000    Diesel   \n",
      "2     ciaz  2017           7.25           9.85        6900    Petrol   \n",
      "3  wagon r  2011           2.85           4.15        5200    Petrol   \n",
      "4    swift  2014           4.60           6.87       42450    Diesel   \n",
      "\n",
      "  Selling_type Transmission  Owner  \n",
      "0       Dealer       Manual      0  \n",
      "1       Dealer       Manual      0  \n",
      "2       Dealer       Manual      0  \n",
      "3       Dealer       Manual      0  \n",
      "4       Dealer       Manual      0  \n",
      "----------------------------------\n",
      "After Change\n",
      "----------------------------------\n",
      "Encoded shape: (301, 9)\n",
      "   Selling_Price  Present_Price  Driven_kms  Owner  Car_Age  Fuel_Type_Diesel  \\\n",
      "0           3.35           5.59       27000      0       11             False   \n",
      "1           4.75           9.54       43000      0       12              True   \n",
      "2           7.25           9.85        6900      0        8             False   \n",
      "3           2.85           4.15        5200      0       14             False   \n",
      "4           4.60           6.87       42450      0       11              True   \n",
      "\n",
      "   Fuel_Type_Petrol  Selling_type_Individual  Transmission_Manual  \n",
      "0              True                    False                 True  \n",
      "1             False                    False                 True  \n",
      "2              True                    False                 True  \n",
      "3              True                    False                 True  \n",
      "4             False                    False                 True  \n"
     ]
    }
   ],
   "source": [
    "import pandas as pd\n",
    "\n",
    "data = pd.read_csv(\"car data.csv\")\n",
    "print(data.head())\n",
    "print(\"----------------------------------\")\n",
    "print(\"After Change\")\n",
    "print(\"----------------------------------\")\n",
    "\n",
    "current_year = 2025\n",
    "data[\"Car_Age\"] = current_year - data['Year']\n",
    "data.drop(columns=['Year'], inplace=True)\n",
    "\n",
    "new_data = data.drop(columns=[\"Car_Name\"])\n",
    "\n",
    "categorical_columns = new_data.select_dtypes(include=['object']).columns\n",
    "numerical_columns = new_data.select_dtypes(exclude=['object']).columns\n",
    "\n",
    "df_encoded = pd.get_dummies(new_data, columns=categorical_columns, drop_first=True)\n",
    "print(\"Encoded shape:\", df_encoded.shape)\n",
    "print(df_encoded.head())\n",
    "\n",
    "data.to_csv(\"car_data_cleaned.csv\", index=False)\n",
    "df_encoded.to_csv(\"car_data_encoded.csv\", index=False)\n"
   ]
  }
 ],
 "metadata": {
  "kernelspec": {
   "display_name": "base",
   "language": "python",
   "name": "python3"
  },
  "language_info": {
   "codemirror_mode": {
    "name": "ipython",
    "version": 3
   },
   "file_extension": ".py",
   "mimetype": "text/x-python",
   "name": "python",
   "nbconvert_exporter": "python",
   "pygments_lexer": "ipython3",
   "version": "3.12.4"
  }
 },
 "nbformat": 4,
 "nbformat_minor": 5
}
