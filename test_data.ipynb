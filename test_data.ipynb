{
 "cells": [
  {
   "cell_type": "code",
   "execution_count": 1,
   "id": "a71a9edb",
   "metadata": {},
   "outputs": [
    {
     "name": "stdout",
     "output_type": "stream",
     "text": [
      "   Present_Price  Driven_kms  Owner  Car_Age  Fuel_Type_Diesel  \\\n",
      "0           12.5       45000      0        5                 1   \n",
      "1            8.0       30000      0        3                 0   \n",
      "2           15.0       60000      1        7                 1   \n",
      "\n",
      "   Fuel_Type_Petrol  Selling_type_Individual  Transmission_Manual  \n",
      "0                 0                        1                    1  \n",
      "1                 1                        0                    0  \n",
      "2                 0                        1                    1  \n"
     ]
    }
   ],
   "source": [
    "import pandas as pd\n",
    "new_data = pd.DataFrame([\n",
    "    [12.5, 45000, 0, 5, 1, 0, 1, 1], \n",
    "    [8.0, 30000, 0, 3, 0, 1, 0, 0],   \n",
    "    [15.0, 60000, 1, 7, 1, 0, 1, 1],  \n",
    "], columns=[\n",
    "    'Present_Price', 'Driven_kms', 'Owner', 'Car_Age',\n",
    "    'Fuel_Type_Diesel', 'Fuel_Type_Petrol',\n",
    "    'Selling_type_Individual', 'Transmission_Manual'\n",
    "])\n",
    "new_data.to_csv(\"car_data_new.csv\", index=False)\n",
    "print(new_data)"
   ]
  }
 ],
 "metadata": {
  "kernelspec": {
   "display_name": "base",
   "language": "python",
   "name": "python3"
  },
  "language_info": {
   "codemirror_mode": {
    "name": "ipython",
    "version": 3
   },
   "file_extension": ".py",
   "mimetype": "text/x-python",
   "name": "python",
   "nbconvert_exporter": "python",
   "pygments_lexer": "ipython3",
   "version": "3.12.4"
  }
 },
 "nbformat": 4,
 "nbformat_minor": 5
}
